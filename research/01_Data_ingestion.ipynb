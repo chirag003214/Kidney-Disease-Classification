{
 "cells": [
  {
   "cell_type": "code",
   "execution_count": 9,
   "id": "3d0f8631",
   "metadata": {},
   "outputs": [],
   "source": [
    "import sys\n",
    "import os\n",
    "\n",
    "# Automatically add the 'src' directory to the system path\n",
    "sys.path.append(os.path.abspath(os.path.join(os.getcwd(), \"..\", \"src\")))\n"
   ]
  },
  {
   "cell_type": "code",
   "execution_count": 10,
   "id": "0f6857c8",
   "metadata": {},
   "outputs": [
    {
     "data": {
      "text/plain": [
       "'c:\\\\Users\\\\Chirag Sharma\\\\Desktop\\\\gitdemo\\\\Kidney-Disease-Classification\\\\research'"
      ]
     },
     "execution_count": 10,
     "metadata": {},
     "output_type": "execute_result"
    }
   ],
   "source": [
    "%pwd"
   ]
  },
  {
   "cell_type": "code",
   "execution_count": 11,
   "id": "508351e2",
   "metadata": {},
   "outputs": [],
   "source": [
    "os.chdir(\"../\")"
   ]
  },
  {
   "cell_type": "code",
   "execution_count": 12,
   "id": "cc118441",
   "metadata": {},
   "outputs": [
    {
     "data": {
      "text/plain": [
       "'c:\\\\Users\\\\Chirag Sharma\\\\Desktop\\\\gitdemo\\\\Kidney-Disease-Classification'"
      ]
     },
     "execution_count": 12,
     "metadata": {},
     "output_type": "execute_result"
    }
   ],
   "source": [
    "%pwd"
   ]
  },
  {
   "cell_type": "code",
   "execution_count": 13,
   "id": "a8661e14",
   "metadata": {},
   "outputs": [],
   "source": [
    "from dataclasses import dataclass\n",
    "from pathlib import Path\n",
    "\n",
    "@dataclass(frozen=True)\n",
    "class Dataingestionconfig:\n",
    "    root_dir: Path\n",
    "    source_URL: str\n",
    "    local_data_file: Path\n",
    "    unzip_dir: Path\n"
   ]
  },
  {
   "cell_type": "code",
   "execution_count": 14,
   "id": "b7d8a4d9",
   "metadata": {},
   "outputs": [
    {
     "name": "stdout",
     "output_type": "stream",
     "text": [
      "Requirement already satisfied: pyyaml in c:\\users\\chirag sharma\\anaconda3\\envs\\kidney\\lib\\site-packages (6.0.2)\n",
      "Requirement already satisfied: joblib in c:\\users\\chirag sharma\\anaconda3\\envs\\kidney\\lib\\site-packages (1.4.2)\n"
     ]
    }
   ],
   "source": [
    "!pip install pyyaml\n",
    "!pip install joblib\n"
   ]
  },
  {
   "cell_type": "code",
   "execution_count": 15,
   "id": "7c17f0e1",
   "metadata": {},
   "outputs": [],
   "source": [
    "from Kidney_Disease_Classification.constants import *\n",
    "from Kidney_Disease_Classification.utils.common import read_yaml, create_directories\n"
   ]
  },
  {
   "cell_type": "code",
   "execution_count": 16,
   "id": "521817bc",
   "metadata": {},
   "outputs": [],
   "source": [
    "from src.Kidney_Disease_Classification.entities.config_entity import DataIngestionConfig\n",
    "from src.Kidney_Disease_Classification.constants import CONFIG_FILE_PATH, PARAMS_FILE_PATH\n",
    "\n",
    "\n",
    " \n",
    "class ConfigurationManager:\n",
    "    def __init__(\n",
    "        self,\n",
    "        config_filepath = CONFIG_FILE_PATH,\n",
    "        params_filepath = PARAMS_FILE_PATH):\n",
    "\n",
    "        self.config = read_yaml(config_filepath)\n",
    "        self.params = read_yaml(params_filepath)\n",
    "\n",
    "        create_directories([self.config.artifacts_root])\n",
    "\n",
    "\n",
    "    \n",
    "    def get_data_ingestion_config(self) -> DataIngestionConfig:\n",
    "        config = self.config.data_ingestion\n",
    "\n",
    "        create_directories([config.root_dir])\n",
    "\n",
    "        data_ingestion_config = DataIngestionConfig(\n",
    "            root_dir=config.root_dir,\n",
    "            source_URL=config.source_URL,\n",
    "            local_data_file=config.local_data_file,\n",
    "            unzip_dir=config.unzip_dir \n",
    "        )\n",
    "\n",
    "        return data_ingestion_config"
   ]
  },
  {
   "cell_type": "code",
   "execution_count": 17,
   "id": "0a28913a",
   "metadata": {},
   "outputs": [
    {
     "name": "stdout",
     "output_type": "stream",
     "text": [
      "ModuleSpec(name='Kidney_Disease_Classification', loader=<_frozen_importlib_external.SourceFileLoader object at 0x0000016D460B1670>, origin='c:\\\\Users\\\\Chirag Sharma\\\\Desktop\\\\gitdemo\\\\Kidney-Disease-Classification\\\\research\\\\../src\\\\Kidney_Disease_Classification\\\\__init__.py', submodule_search_locations=['c:\\\\Users\\\\Chirag Sharma\\\\Desktop\\\\gitdemo\\\\Kidney-Disease-Classification\\\\research\\\\../src\\\\Kidney_Disease_Classification'])\n"
     ]
    }
   ],
   "source": [
    "import importlib.util\n",
    "\n",
    "print(importlib.util.find_spec(\"Kidney_Disease_Classification\"))\n"
   ]
  },
  {
   "cell_type": "code",
   "execution_count": 18,
   "id": "a7093de6",
   "metadata": {},
   "outputs": [],
   "source": [
    "import sys\n",
    "import os\n",
    "\n",
    "sys.path.append(os.path.abspath(\"src\"))\n"
   ]
  },
  {
   "cell_type": "code",
   "execution_count": 19,
   "id": "36d2ecdd",
   "metadata": {},
   "outputs": [
    {
     "name": "stdout",
     "output_type": "stream",
     "text": [
      "c:\\Users\\Chirag Sharma\\Desktop\\gitdemo\\Kidney-Disease-Classification\\src\n"
     ]
    }
   ],
   "source": [
    "print(sys.path[-1])  # Must end with .../Kidney-Disease-Classification/src\n"
   ]
  },
  {
   "cell_type": "code",
   "execution_count": 20,
   "id": "b49ec11a",
   "metadata": {},
   "outputs": [
    {
     "name": "stdout",
     "output_type": "stream",
     "text": [
      "c:\\Users\\Chirag Sharma\\Desktop\\gitdemo\\Kidney-Disease-Classification\n"
     ]
    }
   ],
   "source": [
    "print(os.getcwd())\n"
   ]
  },
  {
   "cell_type": "code",
   "execution_count": 21,
   "id": "acca4922",
   "metadata": {},
   "outputs": [],
   "source": [
    "sys.path.append(os.path.abspath(\"../src\"))\n"
   ]
  },
  {
   "cell_type": "code",
   "execution_count": 22,
   "id": "7478efee",
   "metadata": {},
   "outputs": [
    {
     "name": "stdout",
     "output_type": "stream",
     "text": [
      "c:\\Users\\Chirag Sharma\\Desktop\\gitdemo\\src\n"
     ]
    }
   ],
   "source": [
    "print(sys.path[-1])\n",
    "# Should be: C:\\Users\\Chirag Sharma\\Desktop\\gitdemo\\Kidney-Disease-Classification\\src\n"
   ]
  },
  {
   "cell_type": "code",
   "execution_count": 23,
   "id": "b1901937",
   "metadata": {},
   "outputs": [],
   "source": [
    "from Kidney_Disease_Classification import logger\n",
    "from Kidney_Disease_Classification.utils.common import get_size\n"
   ]
  },
  {
   "cell_type": "code",
   "execution_count": 24,
   "id": "11e5abc1",
   "metadata": {},
   "outputs": [],
   "source": [
    "import sys\n",
    "sys.path.append(\"..\")\n",
    "\n",
    "from Kidney_Disease_Classification.entities.config_entity import DataIngestionConfig\n",
    "\n",
    "class DataIngestion:\n",
    "    def __init__(self, config: DataIngestionConfig):\n",
    "        self.config = config\n",
    "\n",
    "    \n",
    "    def download_file(self)-> str:\n",
    "        '''\n",
    "        Fetch data from the url\n",
    "        '''\n",
    "\n",
    "        try: \n",
    "            dataset_url = self.config.source_URL\n",
    "            zip_download_dir = self.config.local_data_file\n",
    "            os.makedirs(\"artifacts/data_ingestion\", exist_ok=True)\n",
    "            logger.info(f\"Downloading data from {dataset_url} into file {zip_download_dir}\")\n",
    "\n",
    "            file_id = dataset_url.split(\"/\")[-2]\n",
    "            prefix = 'https://drive.google.com/uc?/export=download&id='\n",
    "            gdown.download(prefix+file_id,zip_download_dir)\n",
    "\n",
    "            logger.info(f\"Downloaded data from {dataset_url} into file {zip_download_dir}\")\n",
    "\n",
    "        except Exception as e:\n",
    "            raise e\n",
    "        \n",
    "    \n",
    "\n",
    "    def extract_zip_file(self):\n",
    "        \"\"\"\n",
    "        zip_file_path: str\n",
    "        Extracts the zip file into the data directory\n",
    "        Function returns None\n",
    "        \"\"\"\n",
    "        unzip_path = self.config.unzip_dir\n",
    "        os.makedirs(unzip_path, exist_ok=True)\n",
    "        with zipfile.ZipFile(self.config.local_data_file, 'r') as zip_ref:\n",
    "            zip_ref.extractall(unzip_path)"
   ]
  },
  {
   "cell_type": "code",
   "execution_count": 27,
   "id": "c048a198",
   "metadata": {},
   "outputs": [
    {
     "name": "stdout",
     "output_type": "stream",
     "text": [
      "[2025-06-21 08:57:01,917: INFO: common: yaml file: config\\config.yaml loaded successfully]\n",
      "[2025-06-21 08:57:01,924: INFO: common: yaml file: params.yaml loaded successfully]\n",
      "[2025-06-21 08:57:01,927: INFO: common: created directory at: artifacts]\n",
      "[2025-06-21 08:57:01,929: INFO: common: created directory at: artifacts/data_ingestion]\n",
      "[2025-06-21 08:57:01,931: INFO: 328411276: Downloading data from https://drive.google.com/file/d/11-1L5Ee7Ot-oDBnJY-B6CDwgnM8rFC6e/view?usp=sharing into file artifacts/data_ingestion/data.zip]\n"
     ]
    },
    {
     "name": "stderr",
     "output_type": "stream",
     "text": [
      "Downloading...\n",
      "From (original): https://drive.google.com/uc?/export=download&id=11-1L5Ee7Ot-oDBnJY-B6CDwgnM8rFC6e\n",
      "From (redirected): https://drive.google.com/uc?%2Fexport=download&id=11-1L5Ee7Ot-oDBnJY-B6CDwgnM8rFC6e&confirm=t&uuid=66d32cf4-9613-4403-b868-a510a8704d09\n",
      "To: c:\\Users\\Chirag Sharma\\Desktop\\gitdemo\\Kidney-Disease-Classification\\artifacts\\data_ingestion\\data.zip\n",
      "100%|██████████| 940M/940M [03:33<00:00, 4.39MB/s] \n"
     ]
    },
    {
     "name": "stdout",
     "output_type": "stream",
     "text": [
      "[2025-06-21 09:00:42,417: INFO: 328411276: Downloaded data from https://drive.google.com/file/d/11-1L5Ee7Ot-oDBnJY-B6CDwgnM8rFC6e/view?usp=sharing into file artifacts/data_ingestion/data.zip]\n"
     ]
    }
   ],
   "source": [
    "import gdown\n",
    "import zipfile\n",
    "try:\n",
    "    config = ConfigurationManager()\n",
    "    data_ingestion_config = config.get_data_ingestion_config()\n",
    "    data_ingestion = DataIngestion(config=data_ingestion_config)\n",
    "    data_ingestion.download_file()\n",
    "    data_ingestion.extract_zip_file()\n",
    "except Exception as e:\n",
    "    raise e"
   ]
  },
  {
   "cell_type": "code",
   "execution_count": null,
   "id": "6bbe1572",
   "metadata": {},
   "outputs": [],
   "source": []
  }
 ],
 "metadata": {
  "kernelspec": {
   "display_name": "kidney",
   "language": "python",
   "name": "python3"
  },
  "language_info": {
   "codemirror_mode": {
    "name": "ipython",
    "version": 3
   },
   "file_extension": ".py",
   "mimetype": "text/x-python",
   "name": "python",
   "nbconvert_exporter": "python",
   "pygments_lexer": "ipython3",
   "version": "3.8.20"
  }
 },
 "nbformat": 4,
 "nbformat_minor": 5
}
